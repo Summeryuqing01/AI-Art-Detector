{
 "cells": [
  {
   "cell_type": "code",
   "execution_count": 2,
   "id": "96d4a8e0",
   "metadata": {},
   "outputs": [],
   "source": [
    "# Imports\n",
    "import torch\n",
    "import torch.nn as nn  # All neural network modules, nn.Linear, nn.Conv2d, BatchNorm, Loss functions\n",
    "import torch.optim as optim  # For all Optimization algorithms, SGD, Adam, etc.\n",
    "import torchvision.transforms as transforms  # Transformations we can perform on our dataset\n",
    "import torchvision\n",
    "import os\n",
    "import pandas as pd\n",
    "from tqdm import tqdm\n",
    "from skimage import io\n",
    "from skimage.transform import rescale, resize, downscale_local_mean\n",
    "from torch.utils.data import (\n",
    "    Dataset,\n",
    "    DataLoader,\n",
    ")  # Gives easier dataset managment and creates mini batches"
   ]
  },
  {
   "cell_type": "code",
   "execution_count": 3,
   "id": "c7b36b21",
   "metadata": {},
   "outputs": [
    {
     "name": "stderr",
     "output_type": "stream",
     "text": [
      "/Users/yuqingxia/opt/anaconda3/lib/python3.8/site-packages/torchvision/models/_utils.py:208: UserWarning: The parameter 'pretrained' is deprecated since 0.13 and may be removed in the future, please use 'weights' instead.\n",
      "  warnings.warn(\n",
      "/Users/yuqingxia/opt/anaconda3/lib/python3.8/site-packages/torchvision/models/_utils.py:223: UserWarning: Arguments other than a weight enum or `None` for 'weights' are deprecated since 0.13 and may be removed in the future. The current behavior is equivalent to passing `weights=GoogLeNet_Weights.IMAGENET1K_V1`. You can also use `weights=GoogLeNet_Weights.DEFAULT` to get the most up-to-date weights.\n",
      "  warnings.warn(msg)\n",
      "Downloading: \"https://download.pytorch.org/models/googlenet-1378be20.pth\" to /Users/yuqingxia/.cache/torch/hub/checkpoints/googlenet-1378be20.pth\n"
     ]
    },
    {
     "data": {
      "application/vnd.jupyter.widget-view+json": {
       "model_id": "d7f2d31d4bce4e7c88b6365caef44392",
       "version_major": 2,
       "version_minor": 0
      },
      "text/plain": [
       "  0%|          | 0.00/49.7M [00:00<?, ?B/s]"
      ]
     },
     "metadata": {},
     "output_type": "display_data"
    }
   ],
   "source": [
    "model = torchvision.models.googlenet(pretrained=True)"
   ]
  },
  {
   "cell_type": "code",
   "execution_count": null,
   "id": "b5a0c62b",
   "metadata": {},
   "outputs": [],
   "source": [
    "class ImagesDataProcess(Dataset):\n",
    "    def __init__(self,csv_file,root_dir,tranform=None):\n",
    "        self.annotation=pd.read_csv(csv_file)\n",
    "        self.root_dir=root_dir\n",
    "        self.tranform=tranform\n",
    "        \n",
    "    def __len__(self):\n",
    "        return len(self.annotation)\n",
    "    \n",
    "    def __getitem__(self,index):\n",
    "        img_path=os.path.join(self.root_dir,self.annotation.iloc[index,0])\n",
    "        image=io.imread(img_path)\n",
    "        image=resize(image,(250,250),anti_aliasing=True)\n",
    "        y_label=torch.tensor(int(self.annotation.iloc[index,1]))\n",
    "        \n",
    "        if self.tranform:\n",
    "            image=self.tranform(image)\n",
    "        return (image,y_label)"
   ]
  },
  {
   "cell_type": "code",
   "execution_count": null,
   "id": "6c4fe5cc",
   "metadata": {},
   "outputs": [],
   "source": [
    "device = torch.device(\"cuda\" if torch.cuda.is_available() else \"cpu\")"
   ]
  },
  {
   "cell_type": "code",
   "execution_count": null,
   "id": "63fbb9f8",
   "metadata": {},
   "outputs": [],
   "source": [
    "# need to figure out in_channel\n",
    "# Hyperparameters\n",
    "in_channel = \n",
    "num_classes = 2\n",
    "learning_rate = 1e-3\n",
    "batch_size = 32\n",
    "num_epochs = 10\n",
    "root_dir_path=\n",
    "csv_file_path="
   ]
  },
  {
   "cell_type": "code",
   "execution_count": null,
   "id": "7ce04ccc",
   "metadata": {},
   "outputs": [],
   "source": [
    "dataset=ImagesDataProcess(\n",
    "    csv_file=csv_file_path,\n",
    "    root_dir=root_dir_path,\n",
    "    tranform=transforms.ToTensor()\n",
    ")\n"
   ]
  }
 ],
 "metadata": {
  "kernelspec": {
   "display_name": "Python 3",
   "language": "python",
   "name": "python3"
  },
  "language_info": {
   "codemirror_mode": {
    "name": "ipython",
    "version": 3
   },
   "file_extension": ".py",
   "mimetype": "text/x-python",
   "name": "python",
   "nbconvert_exporter": "python",
   "pygments_lexer": "ipython3",
   "version": "3.8.8"
  }
 },
 "nbformat": 4,
 "nbformat_minor": 5
}
